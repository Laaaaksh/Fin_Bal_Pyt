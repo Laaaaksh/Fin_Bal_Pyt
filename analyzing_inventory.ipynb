{
  "nbformat": 4,
  "nbformat_minor": 0,
  "metadata": {
    "colab": {
      "name": "Fin_python.ipynb",
      "provenance": [],
      "collapsed_sections": []
    },
    "kernelspec": {
      "name": "python3",
      "display_name": "Python 3"
    },
    "language_info": {
      "name": "python"
    }
  },
  "cells": [
    {
      "cell_type": "code",
      "metadata": {
        "id": "fDDbXTzKsXXv",
        "colab": {
          "base_uri": "https://localhost:8080/",
          "height": 261
        },
        "outputId": "398cf9ac-c5be-4df4-cab3-90ca31e15140"
      },
      "source": [
        "import requests\n",
        "import pandas as pd\n",
        "api_key = '08e2d2a138dba992cc772bd27479aade'\n",
        "screener = requests.get(f'https://financialmodelingprep.com/api/v3/stock-screener?marketCapMoreThan=1000000000&sector=Technology&exchange=NASDAQ&limit=10&apikey={api_key}').json()\n",
        "\n",
        "\n",
        "tickers = []\n",
        "for item in screener:\n",
        "  tickers.append(item['symbol'])\n",
        "#printing the tickers\n",
        "#will append all the company names in the tickers\n",
        "companies = {}\n",
        "for ticker in tickers:\n",
        "  BS = requests.get(f'https://financialmodelingprep.com/api/v3/balance-sheet-statement/{ticker}?limit=2&apikey={api_key}').json()\n",
        "\n",
        "  IS = requests.get(f'https://financialmodelingprep.com/api/v3/income-statement/{ticker}?limit=1&apikey={api_key}').json()\n",
        "\n",
        "  companies[ticker] = {}\n",
        "  #creating a empty nested dictionary\n",
        "  \n",
        "  average_inventory = (BS[1]['inventory'] + BS[0]['inventory']) / 2\n",
        "\n",
        "  companies[ticker]['avg_Inventory'] =  average_inventory\n",
        "\n",
        "  COGS = IS[0]['costOfRevenue']\n",
        "  companies[ticker]['COGS'] = COGS\n",
        "  try:\n",
        "    companies[ticker]['inventory_Turnover'] = companies[ticker]['COGS'] / companies[ticker]['avg_Inventory']\n",
        "    companies[ticker]['DOH'] = 365 / companies[ticker]['inventory_Turnover'] \n",
        "  \n",
        "  except:\n",
        "    companies[ticker]['inventory_Turnover'] = 0\n",
        "    companies[ticker]['DOH'] = 0\n",
        "\n",
        "\n",
        "\n",
        "print(companies)\n",
        "\n",
        "inventory_Analysis = pd.DataFrame.from_dict(companies)\n",
        "print(inventory_Analysis)\n",
        "\n",
        "inventory_Analysis['mean'] = inventory_Analysis.mean(axis=1)\n",
        "\n",
        "pd.options.display.float_format = \"{:,.2f}\".format \n",
        "inventory_Analysis.iloc[2:]"
      ],
      "execution_count": 3,
      "outputs": [
        {
          "output_type": "stream",
          "text": [
            "{'AAPL': {'avg_Inventory': 4083500000.0, 'COGS': 169559000000, 'inventory_Turnover': 41.52295824660218, 'DOH': 8.790317824474077}, 'MSFT': {'avg_Inventory': 1979000000.0, 'COGS': 46078000000, 'inventory_Turnover': 23.283476503284486, 'DOH': 15.676353140327272}, 'NVDA': {'avg_Inventory': 1402500000.0, 'COGS': 6279000000, 'inventory_Turnover': 4.4770053475935825, 'DOH': 81.52771141901577}, 'ASML': {'avg_Inventory': 4189300000.0, 'COGS': 7181300000, 'inventory_Turnover': 1.714200463084525, 'DOH': 212.92725551084064}, 'ADBE': {'avg_Inventory': 0.0, 'COGS': 1722000000, 'inventory_Turnover': 0, 'DOH': 0}, 'INTC': {'avg_Inventory': 8585500000.0, 'COGS': 34255000000, 'inventory_Turnover': 3.9898666356065458, 'DOH': 91.48175448839586}, 'CSCO': {'avg_Inventory': 1332500000.0, 'COGS': 17618000000, 'inventory_Turnover': 13.221763602251407, 'DOH': 27.605999545918948}, 'AVGO': {'avg_Inventory': 938500000.0, 'COGS': 10372000000, 'inventory_Turnover': 11.05167820990943, 'DOH': 33.02665831083687}, 'TXN': {'avg_Inventory': 1978000000.0, 'COGS': 5192000000, 'inventory_Turnover': 2.6248736097067744, 'DOH': 139.05431432973808}, 'QCOM': {'avg_Inventory': 1999000000.0, 'COGS': 9255000000, 'inventory_Turnover': 4.629814907453727, 'DOH': 78.83684494867639}}\n",
            "                            AAPL          MSFT  ...           TXN          QCOM\n",
            "avg_Inventory       4.083500e+09  1.979000e+09  ...  1.978000e+09  1.999000e+09\n",
            "COGS                1.695590e+11  4.607800e+10  ...  5.192000e+09  9.255000e+09\n",
            "inventory_Turnover  4.152296e+01  2.328348e+01  ...  2.624874e+00  4.629815e+00\n",
            "DOH                 8.790318e+00  1.567635e+01  ...  1.390543e+02  7.883684e+01\n",
            "\n",
            "[4 rows x 10 columns]\n"
          ],
          "name": "stdout"
        },
        {
          "output_type": "execute_result",
          "data": {
            "text/html": [
              "<div>\n",
              "<style scoped>\n",
              "    .dataframe tbody tr th:only-of-type {\n",
              "        vertical-align: middle;\n",
              "    }\n",
              "\n",
              "    .dataframe tbody tr th {\n",
              "        vertical-align: top;\n",
              "    }\n",
              "\n",
              "    .dataframe thead th {\n",
              "        text-align: right;\n",
              "    }\n",
              "</style>\n",
              "<table border=\"1\" class=\"dataframe\">\n",
              "  <thead>\n",
              "    <tr style=\"text-align: right;\">\n",
              "      <th></th>\n",
              "      <th>AAPL</th>\n",
              "      <th>MSFT</th>\n",
              "      <th>NVDA</th>\n",
              "      <th>ASML</th>\n",
              "      <th>ADBE</th>\n",
              "      <th>INTC</th>\n",
              "      <th>CSCO</th>\n",
              "      <th>AVGO</th>\n",
              "      <th>TXN</th>\n",
              "      <th>QCOM</th>\n",
              "      <th>mean</th>\n",
              "    </tr>\n",
              "  </thead>\n",
              "  <tbody>\n",
              "    <tr>\n",
              "      <th>inventory_Turnover</th>\n",
              "      <td>41.52</td>\n",
              "      <td>23.28</td>\n",
              "      <td>4.48</td>\n",
              "      <td>1.71</td>\n",
              "      <td>0.00</td>\n",
              "      <td>3.99</td>\n",
              "      <td>13.22</td>\n",
              "      <td>11.05</td>\n",
              "      <td>2.62</td>\n",
              "      <td>4.63</td>\n",
              "      <td>10.65</td>\n",
              "    </tr>\n",
              "    <tr>\n",
              "      <th>DOH</th>\n",
              "      <td>8.79</td>\n",
              "      <td>15.68</td>\n",
              "      <td>81.53</td>\n",
              "      <td>212.93</td>\n",
              "      <td>0.00</td>\n",
              "      <td>91.48</td>\n",
              "      <td>27.61</td>\n",
              "      <td>33.03</td>\n",
              "      <td>139.05</td>\n",
              "      <td>78.84</td>\n",
              "      <td>68.89</td>\n",
              "    </tr>\n",
              "  </tbody>\n",
              "</table>\n",
              "</div>"
            ],
            "text/plain": [
              "                    AAPL  MSFT  NVDA   ASML  ...  AVGO    TXN  QCOM  mean\n",
              "inventory_Turnover 41.52 23.28  4.48   1.71  ... 11.05   2.62  4.63 10.65\n",
              "DOH                 8.79 15.68 81.53 212.93  ... 33.03 139.05 78.84 68.89\n",
              "\n",
              "[2 rows x 11 columns]"
            ]
          },
          "metadata": {
            "tags": []
          },
          "execution_count": 3
        }
      ]
    }
  ]
}