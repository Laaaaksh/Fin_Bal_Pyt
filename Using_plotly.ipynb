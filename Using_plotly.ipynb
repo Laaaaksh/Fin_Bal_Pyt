{
  "nbformat": 4,
  "nbformat_minor": 0,
  "metadata": {
    "colab": {
      "name": "Fin_python.ipynb",
      "provenance": [],
      "collapsed_sections": []
    },
    "kernelspec": {
      "name": "python3",
      "display_name": "Python 3"
    },
    "language_info": {
      "name": "python"
    }
  },
  "cells": [
    {
      "cell_type": "code",
      "metadata": {
        "id": "fDDbXTzKsXXv"
      },
      "source": [
        "import requests\n",
        "companies = ['AAPL','ABBV','MRK','MYL','PRGO','ZTS','AGN','JNJ','LLY']\n",
        "#have the list of companeis here\n",
        "assets = []\n",
        "liabilities = []\n",
        "equity = []\n",
        "\n",
        "api_key ='08e2d2a138dba992cc772bd27479aade'\n",
        "\n",
        "for company in companies:\n",
        "  bS = requests.get(f'https://financialmodelingprep.com/api/v3/balance-sheet-statement/{company}?limit=120&apikey=08e2d2a138dba992cc772bd27479aade').json()\n",
        "  asset_value = bS[0]['totalAssets']\n",
        "  assets.append(asset_value)\n",
        "\n",
        "  liability_value = bS[0]['totalLiabilities']\n",
        "  liabilities.append(liability_value)\n",
        "\n",
        "  equity_value = bS[0]['totalStockholdersEquity']\n",
        "  equity.append(equity_value)\n",
        "\n",
        "import plotly.graph_objects as go\n",
        "\n",
        "fig = go.Figure(data=[\n",
        "                    go.Bar(name='Assets', x=companies, y=assets),\n",
        "                    go.Bar(name='Liabilities', x=companies, y=liabilities),\n",
        "                    go.Bar(name='Equity', x=companies, y=equity)\n",
        "                     \n",
        "])\n",
        "\n",
        "fig.update_layout(barmode = 'stack', title='Balance Sheet Latest Quarter')\n",
        "\n",
        "fig.show()"
      ],
      "execution_count": null,
      "outputs": []
    }
  ]
}