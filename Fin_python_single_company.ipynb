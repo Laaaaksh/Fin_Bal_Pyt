{
  "nbformat": 4,
  "nbformat_minor": 0,
  "metadata": {
    "colab": {
      "name": "Fin_python.ipynb",
      "provenance": [],
      "collapsed_sections": []
    },
    "kernelspec": {
      "name": "python3",
      "display_name": "Python 3"
    },
    "language_info": {
      "name": "python"
    }
  },
  "cells": [
    {
      "cell_type": "code",
      "metadata": {
        "colab": {
          "base_uri": "https://localhost:8080/"
        },
        "id": "fDDbXTzKsXXv",
        "outputId": "060a73f9-5c67-45cf-fd70-dcfb4ee1d9aa"
      },
      "source": [
        "import requests\n",
        "import pandas as pd\n",
        "company_name = 'AAPL'\n",
        "#company name can be changed here\n",
        "api_key = '08e2d2a138dba992cc772bd27479aade'\n",
        "#every account will have a different api key\n",
        "Bs = requests.get(f'https://financialmodelingprep.com/api/v3/balance-sheet-statement/{company_name}?limit=5&apikey={api_key}').json()\n",
        "\n",
        "Bs = pd.DataFrame.from_dict(Bs)\n",
        "\n",
        "print(Bs.columns)\n",
        "#printing to check all the columns\n",
        "Bs_columns = ['date', \n",
        "       'cashAndCashEquivalents', 'shortTermInvestments',\n",
        "       'cashAndShortTermInvestments', 'netReceivables', 'inventory',\n",
        "       'otherCurrentAssets', 'totalCurrentAssets', 'propertyPlantEquipmentNet',\n",
        "       'goodwill', 'intangibleAssets', 'goodwillAndIntangibleAssets',\n",
        "       'longTermInvestments', 'taxAssets', 'otherNonCurrentAssets',\n",
        "       'totalNonCurrentAssets', 'otherAssets', 'totalAssets',\n",
        "       'accountPayables', 'shortTermDebt', 'taxPayables', 'deferredRevenue',\n",
        "       'otherCurrentLiabilities', 'totalCurrentLiabilities', 'longTermDebt',\n",
        "       'deferredRevenueNonCurrent', 'deferredTaxLiabilitiesNonCurrent',\n",
        "       'otherNonCurrentLiabilities', 'totalNonCurrentLiabilities',\n",
        "       'otherLiabilities', 'totalLiabilities', 'commonStock',\n",
        "       'retainedEarnings', 'accumulatedOtherComprehensiveIncomeLoss',\n",
        "       'othertotalStockholdersEquity', 'totalStockholdersEquity',\n",
        "       'totalLiabilitiesAndStockholdersEquity', 'totalInvestments',\n",
        "       'totalDebt', 'netDebt']\n",
        "\n",
        "Bs = Bs[Bs_columns]\n",
        "Bs = Bs.T\n",
        "#We are transposing it\n",
        "Bs.columns = Bs.iloc[0]\n",
        "#header change made the first line, to be the header\n",
        "Bs =Bs.iloc[1:]\n",
        "#printing from the first line\n",
        "print(Bs)"
      ],
      "execution_count": 3,
      "outputs": [
        {
          "output_type": "stream",
          "text": [
            "Index(['date', 'symbol', 'reportedCurrency', 'fillingDate', 'acceptedDate',\n",
            "       'period', 'cashAndCashEquivalents', 'shortTermInvestments',\n",
            "       'cashAndShortTermInvestments', 'netReceivables', 'inventory',\n",
            "       'otherCurrentAssets', 'totalCurrentAssets', 'propertyPlantEquipmentNet',\n",
            "       'goodwill', 'intangibleAssets', 'goodwillAndIntangibleAssets',\n",
            "       'longTermInvestments', 'taxAssets', 'otherNonCurrentAssets',\n",
            "       'totalNonCurrentAssets', 'otherAssets', 'totalAssets',\n",
            "       'accountPayables', 'shortTermDebt', 'taxPayables', 'deferredRevenue',\n",
            "       'otherCurrentLiabilities', 'totalCurrentLiabilities', 'longTermDebt',\n",
            "       'deferredRevenueNonCurrent', 'deferredTaxLiabilitiesNonCurrent',\n",
            "       'otherNonCurrentLiabilities', 'totalNonCurrentLiabilities',\n",
            "       'otherLiabilities', 'totalLiabilities', 'commonStock',\n",
            "       'retainedEarnings', 'accumulatedOtherComprehensiveIncomeLoss',\n",
            "       'othertotalStockholdersEquity', 'totalStockholdersEquity',\n",
            "       'totalLiabilitiesAndStockholdersEquity', 'totalInvestments',\n",
            "       'totalDebt', 'netDebt', 'link', 'finalLink'],\n",
            "      dtype='object')\n",
            "date                                       2020-09-26  ...    2016-09-24\n",
            "cashAndCashEquivalents                    38016000000  ...   20484000000\n",
            "shortTermInvestments                      52927000000  ...   46671000000\n",
            "cashAndShortTermInvestments               90943000000  ...   67155000000\n",
            "netReceivables                            37445000000  ...   15754000000\n",
            "inventory                                  4061000000  ...    2132000000\n",
            "otherCurrentAssets                        11264000000  ...    8283000000\n",
            "totalCurrentAssets                       143713000000  ...  106869000000\n",
            "propertyPlantEquipmentNet                 36766000000  ...   27010000000\n",
            "goodwill                                            0  ...     5.414e+09\n",
            "intangibleAssets                                    0  ...     3.206e+09\n",
            "goodwillAndIntangibleAssets                         0  ...      8.62e+09\n",
            "longTermInvestments                        5.2927e+10  ...    1.7043e+11\n",
            "taxAssets                                           0  ...    2.6019e+10\n",
            "otherNonCurrentAssets                     42522000000  ...    8757000000\n",
            "totalNonCurrentAssets                    180175000000  ...  214817000000\n",
            "otherAssets                                9.0482e+10  ...             0\n",
            "totalAssets                              323888000000  ...  321686000000\n",
            "accountPayables                           42296000000  ...   37294000000\n",
            "shortTermDebt                             13769000000  ...    8105000000\n",
            "taxPayables                                         0  ...             0\n",
            "deferredRevenue                            6643000000  ...    8080000000\n",
            "otherCurrentLiabilities                    4.2684e+10  ...     9.156e+09\n",
            "totalCurrentLiabilities                  105392000000  ...   79006000000\n",
            "longTermDebt                              98667000000  ...   75427000000\n",
            "deferredRevenueNonCurrent                           0  ...      2.93e+09\n",
            "deferredTaxLiabilitiesNonCurrent                    0  ...             0\n",
            "otherNonCurrentLiabilities                26320000000  ...   36074000000\n",
            "totalNonCurrentLiabilities               153157000000  ...  114431000000\n",
            "otherLiabilities                                    0  ...             0\n",
            "totalLiabilities                         258549000000  ...  193437000000\n",
            "commonStock                               50779000000  ...   31251000000\n",
            "retainedEarnings                          14966000000  ...   96364000000\n",
            "accumulatedOtherComprehensiveIncomeLoss    -406000000  ...     634000000\n",
            "othertotalStockholdersEquity                        0  ...      -5.4e+08\n",
            "totalStockholdersEquity                   65339000000  ...  128249000000\n",
            "totalLiabilitiesAndStockholdersEquity    323888000000  ...  321686000000\n",
            "totalInvestments                          1.05854e+11  ...   2.17101e+11\n",
            "totalDebt                                112436000000  ...   83532000000\n",
            "netDebt                                   74420000000  ...   63048000000\n",
            "\n",
            "[39 rows x 5 columns]\n"
          ],
          "name": "stdout"
        }
      ]
    },
    {
      "cell_type": "code",
      "metadata": {
        "id": "LQdznYsYtBOw"
      },
      "source": [
        ""
      ],
      "execution_count": null,
      "outputs": []
    }
  ]
}